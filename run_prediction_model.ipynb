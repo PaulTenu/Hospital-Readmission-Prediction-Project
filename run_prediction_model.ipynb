{
 "cells": [
  {
   "cell_type": "markdown",
   "id": "3904f766",
   "metadata": {},
   "source": [
    "## Importing Packages"
   ]
  },
  {
   "cell_type": "code",
   "execution_count": 3,
   "id": "8a67c42d",
   "metadata": {},
   "outputs": [],
   "source": [
    "import pandas as pd\n",
    "from sklearn.model_selection import train_test_split\n",
    "from sklearn.ensemble import RandomForestClassifier\n",
    "import os\n",
    "from datetime import datetime   "
   ]
  },
  {
   "cell_type": "markdown",
   "id": "91196424",
   "metadata": {},
   "source": [
    "## Pathways for our data pipeline"
   ]
  },
  {
   "cell_type": "code",
   "execution_count": 2,
   "id": "6f9d70f9",
   "metadata": {},
   "outputs": [],
   "source": [
    "# Paths\n",
    "input_path = \"C:/Users/USER/Documents/Predictive_Model_Pipeline/data/health_care_Dataset.csv\"\n",
    "output_path = \"C:/Users/USER/Documents/Predictive_Model_Pipeline/data/predicted_output.csv\"\n",
    "log_path = \"C:/Users/USER/Documents/Predictive_Model_Pipeline/logs/run_log.txt\""
   ]
  },
  {
   "cell_type": "markdown",
   "id": "d87940dd",
   "metadata": {},
   "source": [
    "## Loading the Health care Dataset"
   ]
  },
  {
   "cell_type": "code",
   "execution_count": 5,
   "id": "d16ba6f0",
   "metadata": {},
   "outputs": [
    {
     "name": "stdout",
     "output_type": "stream",
     "text": [
      "C:\\Users\\USER\\Documents\\Predictive_Model_Pipeline\\scripts\n"
     ]
    }
   ],
   "source": [
    "# Load Data\n",
    "\n",
    "df = pd.read_csv(\"C:/Users/USER/Documents/Predictive_Model_Pipeline/scripts/Health_care_patient_Dataset.csv\")"
   ]
  },
  {
   "cell_type": "markdown",
   "id": "2d0df406",
   "metadata": {},
   "source": [
    "## Preprocessing of the dataset"
   ]
  },
  {
   "cell_type": "code",
   "execution_count": 7,
   "id": "0cb6b4b7",
   "metadata": {},
   "outputs": [],
   "source": [
    "# Preprocessing\n",
    "\n",
    "df['Gender'] = df['Gender'].map({'Male': 0, 'Female': 1})\n",
    "df['High_LOS'] = (df['Length of Stay (LOS)'] > df['Length of Stay (LOS)'].median()).astype(int)\n"
   ]
  },
  {
   "cell_type": "code",
   "execution_count": 8,
   "id": "0e334304",
   "metadata": {},
   "outputs": [],
   "source": [
    "# Encode binary features\n",
    "\n",
    "df['Medication Adherence'] = df['Medication Adherence'].map({'Yes': 1, 'No': 0})\n",
    "df['Follow-up Appointment'] = df['Follow-up Appointment'].map({'Yes': 1, 'No': 0})"
   ]
  },
  {
   "cell_type": "markdown",
   "id": "18efdd7e",
   "metadata": {},
   "source": [
    "## Prediction Model"
   ]
  },
  {
   "cell_type": "code",
   "execution_count": 9,
   "id": "c1d005f8",
   "metadata": {},
   "outputs": [],
   "source": [
    "# Model\n",
    "\n",
    "features = ['Age', 'Gender', 'Medication Adherence', 'Follow-up Appointment']\n",
    "X = df[features]\n",
    "y = df['High_LOS']\n",
    "\n",
    "X_train, X_test, y_train, y_test = train_test_split(X, y, test_size=0.2, random_state=42)\n",
    "model = RandomForestClassifier()\n",
    "model.fit(X_train, y_train)\n",
    "\n",
    "df['Predicted_High_LOS'] = model.predict(X)"
   ]
  },
  {
   "cell_type": "markdown",
   "id": "289861de",
   "metadata": {},
   "source": [
    "## Output Data"
   ]
  },
  {
   "cell_type": "code",
   "execution_count": 10,
   "id": "ded0bfc4",
   "metadata": {},
   "outputs": [],
   "source": [
    "# Save prediction\n",
    "\n",
    "df.to_csv(output_path, index=False)\n"
   ]
  },
  {
   "cell_type": "code",
   "execution_count": 23,
   "id": "08a94800",
   "metadata": {},
   "outputs": [],
   "source": [
    "try:\n",
    "    \n",
    "\n",
    "    # Log success\n",
    "    with open(log_path, 'a') as f:\n",
    "        f.write(f\"[{datetime.now()}] Prediction run successful. Output saved.\\n\")\n",
    "\n",
    "except Exception as e:\n",
    "    # Log error\n",
    "    with open(log_path, 'a') as f:\n",
    "        f.write(f\"[{datetime.now()}] Error: {e}\\n\")"
   ]
  },
  {
   "cell_type": "code",
   "execution_count": 24,
   "id": "1a60844b",
   "metadata": {},
   "outputs": [],
   "source": [
    "from sqlalchemy import create_engine\n",
    "\n",
    "conn_str = (\n",
    "    \"mssql+pyodbc://DESKTOP-7JNGS66\\VANHELSON\\\\\\SQLEXPRESS/Health_Care_Predictive_Model\"\n",
    "    \"?trusted_connection=yes&driver=ODBC+Driver+17+for+SQL+Server\"\n",
    ")\n",
    "engine = create_engine(conn_str)\n"
   ]
  },
  {
   "cell_type": "code",
   "execution_count": null,
   "id": "29a9677d",
   "metadata": {},
   "outputs": [],
   "source": []
  }
 ],
 "metadata": {
  "kernelspec": {
   "display_name": "Python 3 (ipykernel)",
   "language": "python",
   "name": "python3"
  },
  "language_info": {
   "codemirror_mode": {
    "name": "ipython",
    "version": 3
   },
   "file_extension": ".py",
   "mimetype": "text/x-python",
   "name": "python",
   "nbconvert_exporter": "python",
   "pygments_lexer": "ipython3",
   "version": "3.11.5"
  }
 },
 "nbformat": 4,
 "nbformat_minor": 5
}
